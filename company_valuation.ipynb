{
  "nbformat": 4,
  "nbformat_minor": 0,
  "metadata": {
    "colab": {
      "provenance": [],
      "authorship_tag": "ABX9TyN1/3V1h0vMzvX7JY6vuako",
      "include_colab_link": true
    },
    "kernelspec": {
      "name": "python3",
      "display_name": "Python 3"
    },
    "language_info": {
      "name": "python"
    }
  },
  "cells": [
    {
      "cell_type": "markdown",
      "metadata": {
        "id": "view-in-github",
        "colab_type": "text"
      },
      "source": [
        "<a href=\"https://colab.research.google.com/github/ogbemi-ejegi/startup_valuation/blob/main/company_valuation.ipynb\" target=\"_parent\"><img src=\"https://colab.research.google.com/assets/colab-badge.svg\" alt=\"Open In Colab\"/></a>"
      ]
    },
    {
      "cell_type": "markdown",
      "source": [
        "Unicorn Companies\n",
        "A unicorn company is a privately held company with a current valuation of over $1 billion USD. This dataset consists of unicorn companies and startups across the globe as of November 2021, including country of origin, sector, select investors, and valuation of each unicorn.\n",
        "\n",
        "Note former unicorn companies that have since exited due to IPO or acquisitions are not included in this list.\n",
        "\n",
        "Challenges are brief tasks designed to help you practice specific skills:\n",
        "\n",
        "🗺️ Explore: Which investors are the most represented in the dataset?\n",
        "\n",
        "📊 Visualize: Create a plot that visualizes the valuation of a company by the date it was added. Add annotations to outliers indicating the names of the company.\n",
        "\n",
        "🔎 Analyze: Do the number of investors a company have correlate with its valuation?\n",
        "\n",
        "Scenarios are broader questions to help you develop an end-to-end project for your portfolio:\n",
        "\n",
        "You have been hired as a data scientist for a company that invests in start-ups. Your manager is interested in whether it is possible to predict whether a company reaches a valuation over 5 billion based on characteristics such as its country of origin, its category, and details about its investors.\n",
        "\n",
        "Using the dataset provided, you have been asked to test whether such predictions are possible, and the confidence one can have in the results.\n",
        "\n",
        "You will need to prepare a report that is accessible to a broad audience. It will need to outline your motivation, steps, findings, and conclusions."
      ],
      "metadata": {
        "id": "3K_6aJT0alg7"
      }
    },
    {
      "cell_type": "markdown",
      "source": [
        "Import Dependencies"
      ],
      "metadata": {
        "id": "Zi2fCFDma9B7"
      }
    },
    {
      "cell_type": "code",
      "source": [
        "import pandas as pd \n",
        "import seaborn as sns\n",
        "import matplotlib.pyplot as plt\n",
        "\n",
        "from sklearn.preprocessing import MultiLabelBinarizer\n",
        "from sklearn.model_selection import train_test_split\n",
        "from sklearn.linear_model import LogisticRegression\n",
        "from sklearn.metrics import accuracy_score"
      ],
      "metadata": {
        "id": "Cv-dJcyLa8Fk"
      },
      "execution_count": null,
      "outputs": []
    },
    {
      "cell_type": "code",
      "execution_count": null,
      "metadata": {
        "id": "jzz-gZEHZ1c-"
      },
      "outputs": [],
      "source": [
        "df = pd.read_csv('/content/company_valuation1.csv')"
      ]
    },
    {
      "cell_type": "markdown",
      "source": [
        "EDA"
      ],
      "metadata": {
        "id": "SnvjAv4HbjZF"
      }
    },
    {
      "cell_type": "code",
      "source": [
        "df.head()"
      ],
      "metadata": {
        "colab": {
          "base_uri": "https://localhost:8080/",
          "height": 250
        },
        "id": "lpSdZUKibiIN",
        "outputId": "cfe30bf2-3101-4ac4-ef5c-aff2285b761f"
      },
      "execution_count": null,
      "outputs": [
        {
          "output_type": "execute_result",
          "data": {
            "text/plain": [
              "     Company Valuation ($B)   Date Added        Country  \\\n",
              "0  Bytedance        $140.00     4/7/2017          China   \n",
              "1     SpaceX        $100.30    12/1/2012  United States   \n",
              "2     Stripe         $95.00    1/23/2014  United States   \n",
              "3     Klarna         $45.60   12/12/2011         Sweden   \n",
              "4      Canva         $40.00     1/8/2018      Australia   \n",
              "\n",
              "                       Category  \\\n",
              "0       Artificial intelligence   \n",
              "1                         Other   \n",
              "2                       Fintech   \n",
              "3                       Fintech   \n",
              "4  Internet software & services   \n",
              "\n",
              "                                    Select Investors  \n",
              "0  \"Sequoia Capital China, SIG Asia Investments, ...  \n",
              "1  \"Founders Fund, Draper Fisher Jurvetson, Rothe...  \n",
              "2      \"Khosla Ventures, LowercaseCapital, capitalG\"  \n",
              "3  \"Institutional Venture Partners, Sequoia Capit...  \n",
              "4  \"Sequoia Capital China, Blackbird Ventures, Ma...  "
            ],
            "text/html": [
              "\n",
              "  <div id=\"df-e1b25140-4e8c-4815-8bff-b3c3b94ad728\">\n",
              "    <div class=\"colab-df-container\">\n",
              "      <div>\n",
              "<style scoped>\n",
              "    .dataframe tbody tr th:only-of-type {\n",
              "        vertical-align: middle;\n",
              "    }\n",
              "\n",
              "    .dataframe tbody tr th {\n",
              "        vertical-align: top;\n",
              "    }\n",
              "\n",
              "    .dataframe thead th {\n",
              "        text-align: right;\n",
              "    }\n",
              "</style>\n",
              "<table border=\"1\" class=\"dataframe\">\n",
              "  <thead>\n",
              "    <tr style=\"text-align: right;\">\n",
              "      <th></th>\n",
              "      <th>Company</th>\n",
              "      <th>Valuation ($B)</th>\n",
              "      <th>Date Added</th>\n",
              "      <th>Country</th>\n",
              "      <th>Category</th>\n",
              "      <th>Select Investors</th>\n",
              "    </tr>\n",
              "  </thead>\n",
              "  <tbody>\n",
              "    <tr>\n",
              "      <th>0</th>\n",
              "      <td>Bytedance</td>\n",
              "      <td>$140.00</td>\n",
              "      <td>4/7/2017</td>\n",
              "      <td>China</td>\n",
              "      <td>Artificial intelligence</td>\n",
              "      <td>\"Sequoia Capital China, SIG Asia Investments, ...</td>\n",
              "    </tr>\n",
              "    <tr>\n",
              "      <th>1</th>\n",
              "      <td>SpaceX</td>\n",
              "      <td>$100.30</td>\n",
              "      <td>12/1/2012</td>\n",
              "      <td>United States</td>\n",
              "      <td>Other</td>\n",
              "      <td>\"Founders Fund, Draper Fisher Jurvetson, Rothe...</td>\n",
              "    </tr>\n",
              "    <tr>\n",
              "      <th>2</th>\n",
              "      <td>Stripe</td>\n",
              "      <td>$95.00</td>\n",
              "      <td>1/23/2014</td>\n",
              "      <td>United States</td>\n",
              "      <td>Fintech</td>\n",
              "      <td>\"Khosla Ventures, LowercaseCapital, capitalG\"</td>\n",
              "    </tr>\n",
              "    <tr>\n",
              "      <th>3</th>\n",
              "      <td>Klarna</td>\n",
              "      <td>$45.60</td>\n",
              "      <td>12/12/2011</td>\n",
              "      <td>Sweden</td>\n",
              "      <td>Fintech</td>\n",
              "      <td>\"Institutional Venture Partners, Sequoia Capit...</td>\n",
              "    </tr>\n",
              "    <tr>\n",
              "      <th>4</th>\n",
              "      <td>Canva</td>\n",
              "      <td>$40.00</td>\n",
              "      <td>1/8/2018</td>\n",
              "      <td>Australia</td>\n",
              "      <td>Internet software &amp; services</td>\n",
              "      <td>\"Sequoia Capital China, Blackbird Ventures, Ma...</td>\n",
              "    </tr>\n",
              "  </tbody>\n",
              "</table>\n",
              "</div>\n",
              "      <button class=\"colab-df-convert\" onclick=\"convertToInteractive('df-e1b25140-4e8c-4815-8bff-b3c3b94ad728')\"\n",
              "              title=\"Convert this dataframe to an interactive table.\"\n",
              "              style=\"display:none;\">\n",
              "        \n",
              "  <svg xmlns=\"http://www.w3.org/2000/svg\" height=\"24px\"viewBox=\"0 0 24 24\"\n",
              "       width=\"24px\">\n",
              "    <path d=\"M0 0h24v24H0V0z\" fill=\"none\"/>\n",
              "    <path d=\"M18.56 5.44l.94 2.06.94-2.06 2.06-.94-2.06-.94-.94-2.06-.94 2.06-2.06.94zm-11 1L8.5 8.5l.94-2.06 2.06-.94-2.06-.94L8.5 2.5l-.94 2.06-2.06.94zm10 10l.94 2.06.94-2.06 2.06-.94-2.06-.94-.94-2.06-.94 2.06-2.06.94z\"/><path d=\"M17.41 7.96l-1.37-1.37c-.4-.4-.92-.59-1.43-.59-.52 0-1.04.2-1.43.59L10.3 9.45l-7.72 7.72c-.78.78-.78 2.05 0 2.83L4 21.41c.39.39.9.59 1.41.59.51 0 1.02-.2 1.41-.59l7.78-7.78 2.81-2.81c.8-.78.8-2.07 0-2.86zM5.41 20L4 18.59l7.72-7.72 1.47 1.35L5.41 20z\"/>\n",
              "  </svg>\n",
              "      </button>\n",
              "      \n",
              "  <style>\n",
              "    .colab-df-container {\n",
              "      display:flex;\n",
              "      flex-wrap:wrap;\n",
              "      gap: 12px;\n",
              "    }\n",
              "\n",
              "    .colab-df-convert {\n",
              "      background-color: #E8F0FE;\n",
              "      border: none;\n",
              "      border-radius: 50%;\n",
              "      cursor: pointer;\n",
              "      display: none;\n",
              "      fill: #1967D2;\n",
              "      height: 32px;\n",
              "      padding: 0 0 0 0;\n",
              "      width: 32px;\n",
              "    }\n",
              "\n",
              "    .colab-df-convert:hover {\n",
              "      background-color: #E2EBFA;\n",
              "      box-shadow: 0px 1px 2px rgba(60, 64, 67, 0.3), 0px 1px 3px 1px rgba(60, 64, 67, 0.15);\n",
              "      fill: #174EA6;\n",
              "    }\n",
              "\n",
              "    [theme=dark] .colab-df-convert {\n",
              "      background-color: #3B4455;\n",
              "      fill: #D2E3FC;\n",
              "    }\n",
              "\n",
              "    [theme=dark] .colab-df-convert:hover {\n",
              "      background-color: #434B5C;\n",
              "      box-shadow: 0px 1px 3px 1px rgba(0, 0, 0, 0.15);\n",
              "      filter: drop-shadow(0px 1px 2px rgba(0, 0, 0, 0.3));\n",
              "      fill: #FFFFFF;\n",
              "    }\n",
              "  </style>\n",
              "\n",
              "      <script>\n",
              "        const buttonEl =\n",
              "          document.querySelector('#df-e1b25140-4e8c-4815-8bff-b3c3b94ad728 button.colab-df-convert');\n",
              "        buttonEl.style.display =\n",
              "          google.colab.kernel.accessAllowed ? 'block' : 'none';\n",
              "\n",
              "        async function convertToInteractive(key) {\n",
              "          const element = document.querySelector('#df-e1b25140-4e8c-4815-8bff-b3c3b94ad728');\n",
              "          const dataTable =\n",
              "            await google.colab.kernel.invokeFunction('convertToInteractive',\n",
              "                                                     [key], {});\n",
              "          if (!dataTable) return;\n",
              "\n",
              "          const docLinkHtml = 'Like what you see? Visit the ' +\n",
              "            '<a target=\"_blank\" href=https://colab.research.google.com/notebooks/data_table.ipynb>data table notebook</a>'\n",
              "            + ' to learn more about interactive tables.';\n",
              "          element.innerHTML = '';\n",
              "          dataTable['output_type'] = 'display_data';\n",
              "          await google.colab.output.renderOutput(dataTable, element);\n",
              "          const docLink = document.createElement('div');\n",
              "          docLink.innerHTML = docLinkHtml;\n",
              "          element.appendChild(docLink);\n",
              "        }\n",
              "      </script>\n",
              "    </div>\n",
              "  </div>\n",
              "  "
            ]
          },
          "metadata": {},
          "execution_count": 150
        }
      ]
    },
    {
      "cell_type": "code",
      "source": [
        "df.tail()"
      ],
      "metadata": {
        "colab": {
          "base_uri": "https://localhost:8080/",
          "height": 354
        },
        "id": "hATu9f5obspW",
        "outputId": "920d8fa1-9ac8-4de5-fbcf-e2d2fe40cf6d"
      },
      "execution_count": null,
      "outputs": [
        {
          "output_type": "execute_result",
          "data": {
            "text/plain": [
              "    Company Valuation ($B)   Date Added        Country  \\\n",
              "912  Heyday          $1.00   11/16/2021  United States   \n",
              "913   PLACE          $1.00   11/17/2021  United States   \n",
              "914  Stytch          $1.00   11/18/2021  United States   \n",
              "915   Owkin          $1.00   11/18/2021  United States   \n",
              "916   Expel          $1.00   11/18/2021  United States   \n",
              "\n",
              "                            Category  \\\n",
              "912  E-commerce & direct-to-consumer   \n",
              "913     Internet software & services   \n",
              "914                    Cybersecurity   \n",
              "915          Artificial Intelligence   \n",
              "916                    Cybersecurity   \n",
              "\n",
              "                                      Select Investors  \n",
              "912  \"Khosla Ventures,General Catalyst, Victory Par...  \n",
              "913               \"Goldman Sachs Asset Management, 3L\"  \n",
              "914        \"Index Ventures, Benchmark, Thrive Capital\"  \n",
              "915  \"Google Ventures, Cathay Innovation, NJF Capital\"  \n",
              "916  \"Paladin Capital Group, Greycroft, Scale Ventu...  "
            ],
            "text/html": [
              "\n",
              "  <div id=\"df-7992b5bd-62db-4f16-9720-54c77377dc3d\">\n",
              "    <div class=\"colab-df-container\">\n",
              "      <div>\n",
              "<style scoped>\n",
              "    .dataframe tbody tr th:only-of-type {\n",
              "        vertical-align: middle;\n",
              "    }\n",
              "\n",
              "    .dataframe tbody tr th {\n",
              "        vertical-align: top;\n",
              "    }\n",
              "\n",
              "    .dataframe thead th {\n",
              "        text-align: right;\n",
              "    }\n",
              "</style>\n",
              "<table border=\"1\" class=\"dataframe\">\n",
              "  <thead>\n",
              "    <tr style=\"text-align: right;\">\n",
              "      <th></th>\n",
              "      <th>Company</th>\n",
              "      <th>Valuation ($B)</th>\n",
              "      <th>Date Added</th>\n",
              "      <th>Country</th>\n",
              "      <th>Category</th>\n",
              "      <th>Select Investors</th>\n",
              "    </tr>\n",
              "  </thead>\n",
              "  <tbody>\n",
              "    <tr>\n",
              "      <th>912</th>\n",
              "      <td>Heyday</td>\n",
              "      <td>$1.00</td>\n",
              "      <td>11/16/2021</td>\n",
              "      <td>United States</td>\n",
              "      <td>E-commerce &amp; direct-to-consumer</td>\n",
              "      <td>\"Khosla Ventures,General Catalyst, Victory Par...</td>\n",
              "    </tr>\n",
              "    <tr>\n",
              "      <th>913</th>\n",
              "      <td>PLACE</td>\n",
              "      <td>$1.00</td>\n",
              "      <td>11/17/2021</td>\n",
              "      <td>United States</td>\n",
              "      <td>Internet software &amp; services</td>\n",
              "      <td>\"Goldman Sachs Asset Management, 3L\"</td>\n",
              "    </tr>\n",
              "    <tr>\n",
              "      <th>914</th>\n",
              "      <td>Stytch</td>\n",
              "      <td>$1.00</td>\n",
              "      <td>11/18/2021</td>\n",
              "      <td>United States</td>\n",
              "      <td>Cybersecurity</td>\n",
              "      <td>\"Index Ventures, Benchmark, Thrive Capital\"</td>\n",
              "    </tr>\n",
              "    <tr>\n",
              "      <th>915</th>\n",
              "      <td>Owkin</td>\n",
              "      <td>$1.00</td>\n",
              "      <td>11/18/2021</td>\n",
              "      <td>United States</td>\n",
              "      <td>Artificial Intelligence</td>\n",
              "      <td>\"Google Ventures, Cathay Innovation, NJF Capital\"</td>\n",
              "    </tr>\n",
              "    <tr>\n",
              "      <th>916</th>\n",
              "      <td>Expel</td>\n",
              "      <td>$1.00</td>\n",
              "      <td>11/18/2021</td>\n",
              "      <td>United States</td>\n",
              "      <td>Cybersecurity</td>\n",
              "      <td>\"Paladin Capital Group, Greycroft, Scale Ventu...</td>\n",
              "    </tr>\n",
              "  </tbody>\n",
              "</table>\n",
              "</div>\n",
              "      <button class=\"colab-df-convert\" onclick=\"convertToInteractive('df-7992b5bd-62db-4f16-9720-54c77377dc3d')\"\n",
              "              title=\"Convert this dataframe to an interactive table.\"\n",
              "              style=\"display:none;\">\n",
              "        \n",
              "  <svg xmlns=\"http://www.w3.org/2000/svg\" height=\"24px\"viewBox=\"0 0 24 24\"\n",
              "       width=\"24px\">\n",
              "    <path d=\"M0 0h24v24H0V0z\" fill=\"none\"/>\n",
              "    <path d=\"M18.56 5.44l.94 2.06.94-2.06 2.06-.94-2.06-.94-.94-2.06-.94 2.06-2.06.94zm-11 1L8.5 8.5l.94-2.06 2.06-.94-2.06-.94L8.5 2.5l-.94 2.06-2.06.94zm10 10l.94 2.06.94-2.06 2.06-.94-2.06-.94-.94-2.06-.94 2.06-2.06.94z\"/><path d=\"M17.41 7.96l-1.37-1.37c-.4-.4-.92-.59-1.43-.59-.52 0-1.04.2-1.43.59L10.3 9.45l-7.72 7.72c-.78.78-.78 2.05 0 2.83L4 21.41c.39.39.9.59 1.41.59.51 0 1.02-.2 1.41-.59l7.78-7.78 2.81-2.81c.8-.78.8-2.07 0-2.86zM5.41 20L4 18.59l7.72-7.72 1.47 1.35L5.41 20z\"/>\n",
              "  </svg>\n",
              "      </button>\n",
              "      \n",
              "  <style>\n",
              "    .colab-df-container {\n",
              "      display:flex;\n",
              "      flex-wrap:wrap;\n",
              "      gap: 12px;\n",
              "    }\n",
              "\n",
              "    .colab-df-convert {\n",
              "      background-color: #E8F0FE;\n",
              "      border: none;\n",
              "      border-radius: 50%;\n",
              "      cursor: pointer;\n",
              "      display: none;\n",
              "      fill: #1967D2;\n",
              "      height: 32px;\n",
              "      padding: 0 0 0 0;\n",
              "      width: 32px;\n",
              "    }\n",
              "\n",
              "    .colab-df-convert:hover {\n",
              "      background-color: #E2EBFA;\n",
              "      box-shadow: 0px 1px 2px rgba(60, 64, 67, 0.3), 0px 1px 3px 1px rgba(60, 64, 67, 0.15);\n",
              "      fill: #174EA6;\n",
              "    }\n",
              "\n",
              "    [theme=dark] .colab-df-convert {\n",
              "      background-color: #3B4455;\n",
              "      fill: #D2E3FC;\n",
              "    }\n",
              "\n",
              "    [theme=dark] .colab-df-convert:hover {\n",
              "      background-color: #434B5C;\n",
              "      box-shadow: 0px 1px 3px 1px rgba(0, 0, 0, 0.15);\n",
              "      filter: drop-shadow(0px 1px 2px rgba(0, 0, 0, 0.3));\n",
              "      fill: #FFFFFF;\n",
              "    }\n",
              "  </style>\n",
              "\n",
              "      <script>\n",
              "        const buttonEl =\n",
              "          document.querySelector('#df-7992b5bd-62db-4f16-9720-54c77377dc3d button.colab-df-convert');\n",
              "        buttonEl.style.display =\n",
              "          google.colab.kernel.accessAllowed ? 'block' : 'none';\n",
              "\n",
              "        async function convertToInteractive(key) {\n",
              "          const element = document.querySelector('#df-7992b5bd-62db-4f16-9720-54c77377dc3d');\n",
              "          const dataTable =\n",
              "            await google.colab.kernel.invokeFunction('convertToInteractive',\n",
              "                                                     [key], {});\n",
              "          if (!dataTable) return;\n",
              "\n",
              "          const docLinkHtml = 'Like what you see? Visit the ' +\n",
              "            '<a target=\"_blank\" href=https://colab.research.google.com/notebooks/data_table.ipynb>data table notebook</a>'\n",
              "            + ' to learn more about interactive tables.';\n",
              "          element.innerHTML = '';\n",
              "          dataTable['output_type'] = 'display_data';\n",
              "          await google.colab.output.renderOutput(dataTable, element);\n",
              "          const docLink = document.createElement('div');\n",
              "          docLink.innerHTML = docLinkHtml;\n",
              "          element.appendChild(docLink);\n",
              "        }\n",
              "      </script>\n",
              "    </div>\n",
              "  </div>\n",
              "  "
            ]
          },
          "metadata": {},
          "execution_count": 151
        }
      ]
    },
    {
      "cell_type": "code",
      "source": [
        "df.info()"
      ],
      "metadata": {
        "colab": {
          "base_uri": "https://localhost:8080/"
        },
        "id": "EBxzBF6WbyPl",
        "outputId": "9da766fe-aa00-4be7-cdd5-9a2cf3f4a688"
      },
      "execution_count": null,
      "outputs": [
        {
          "output_type": "stream",
          "name": "stdout",
          "text": [
            "<class 'pandas.core.frame.DataFrame'>\n",
            "RangeIndex: 917 entries, 0 to 916\n",
            "Data columns (total 6 columns):\n",
            " #   Column            Non-Null Count  Dtype \n",
            "---  ------            --------------  ----- \n",
            " 0   Company           917 non-null    object\n",
            " 1   Valuation ($B)    917 non-null    object\n",
            " 2   Date Added        917 non-null    object\n",
            " 3   Country           917 non-null    object\n",
            " 4   Category          917 non-null    object\n",
            " 5   Select Investors  916 non-null    object\n",
            "dtypes: object(6)\n",
            "memory usage: 43.1+ KB\n"
          ]
        }
      ]
    },
    {
      "cell_type": "code",
      "source": [
        "df.describe()"
      ],
      "metadata": {
        "colab": {
          "base_uri": "https://localhost:8080/",
          "height": 175
        },
        "id": "E7IQ8psib2WF",
        "outputId": "b43e02c6-e0b7-4022-caec-aaacbe7b0a87"
      },
      "execution_count": null,
      "outputs": [
        {
          "output_type": "execute_result",
          "data": {
            "text/plain": [
              "       Company Valuation ($B)  Date Added        Country Category  \\\n",
              "count      917             917        917            917      917   \n",
              "unique     916             194        582             47       17   \n",
              "top       Bolt          $1.00   7/13/2021  United States  Fintech   \n",
              "freq         2             216          8            469      184   \n",
              "\n",
              "       Select Investors  \n",
              "count               916  \n",
              "unique              901  \n",
              "top     Sequoia Capital  \n",
              "freq                  2  "
            ],
            "text/html": [
              "\n",
              "  <div id=\"df-0f97add9-5290-415c-82b6-64e0262d1942\">\n",
              "    <div class=\"colab-df-container\">\n",
              "      <div>\n",
              "<style scoped>\n",
              "    .dataframe tbody tr th:only-of-type {\n",
              "        vertical-align: middle;\n",
              "    }\n",
              "\n",
              "    .dataframe tbody tr th {\n",
              "        vertical-align: top;\n",
              "    }\n",
              "\n",
              "    .dataframe thead th {\n",
              "        text-align: right;\n",
              "    }\n",
              "</style>\n",
              "<table border=\"1\" class=\"dataframe\">\n",
              "  <thead>\n",
              "    <tr style=\"text-align: right;\">\n",
              "      <th></th>\n",
              "      <th>Company</th>\n",
              "      <th>Valuation ($B)</th>\n",
              "      <th>Date Added</th>\n",
              "      <th>Country</th>\n",
              "      <th>Category</th>\n",
              "      <th>Select Investors</th>\n",
              "    </tr>\n",
              "  </thead>\n",
              "  <tbody>\n",
              "    <tr>\n",
              "      <th>count</th>\n",
              "      <td>917</td>\n",
              "      <td>917</td>\n",
              "      <td>917</td>\n",
              "      <td>917</td>\n",
              "      <td>917</td>\n",
              "      <td>916</td>\n",
              "    </tr>\n",
              "    <tr>\n",
              "      <th>unique</th>\n",
              "      <td>916</td>\n",
              "      <td>194</td>\n",
              "      <td>582</td>\n",
              "      <td>47</td>\n",
              "      <td>17</td>\n",
              "      <td>901</td>\n",
              "    </tr>\n",
              "    <tr>\n",
              "      <th>top</th>\n",
              "      <td>Bolt</td>\n",
              "      <td>$1.00</td>\n",
              "      <td>7/13/2021</td>\n",
              "      <td>United States</td>\n",
              "      <td>Fintech</td>\n",
              "      <td>Sequoia Capital</td>\n",
              "    </tr>\n",
              "    <tr>\n",
              "      <th>freq</th>\n",
              "      <td>2</td>\n",
              "      <td>216</td>\n",
              "      <td>8</td>\n",
              "      <td>469</td>\n",
              "      <td>184</td>\n",
              "      <td>2</td>\n",
              "    </tr>\n",
              "  </tbody>\n",
              "</table>\n",
              "</div>\n",
              "      <button class=\"colab-df-convert\" onclick=\"convertToInteractive('df-0f97add9-5290-415c-82b6-64e0262d1942')\"\n",
              "              title=\"Convert this dataframe to an interactive table.\"\n",
              "              style=\"display:none;\">\n",
              "        \n",
              "  <svg xmlns=\"http://www.w3.org/2000/svg\" height=\"24px\"viewBox=\"0 0 24 24\"\n",
              "       width=\"24px\">\n",
              "    <path d=\"M0 0h24v24H0V0z\" fill=\"none\"/>\n",
              "    <path d=\"M18.56 5.44l.94 2.06.94-2.06 2.06-.94-2.06-.94-.94-2.06-.94 2.06-2.06.94zm-11 1L8.5 8.5l.94-2.06 2.06-.94-2.06-.94L8.5 2.5l-.94 2.06-2.06.94zm10 10l.94 2.06.94-2.06 2.06-.94-2.06-.94-.94-2.06-.94 2.06-2.06.94z\"/><path d=\"M17.41 7.96l-1.37-1.37c-.4-.4-.92-.59-1.43-.59-.52 0-1.04.2-1.43.59L10.3 9.45l-7.72 7.72c-.78.78-.78 2.05 0 2.83L4 21.41c.39.39.9.59 1.41.59.51 0 1.02-.2 1.41-.59l7.78-7.78 2.81-2.81c.8-.78.8-2.07 0-2.86zM5.41 20L4 18.59l7.72-7.72 1.47 1.35L5.41 20z\"/>\n",
              "  </svg>\n",
              "      </button>\n",
              "      \n",
              "  <style>\n",
              "    .colab-df-container {\n",
              "      display:flex;\n",
              "      flex-wrap:wrap;\n",
              "      gap: 12px;\n",
              "    }\n",
              "\n",
              "    .colab-df-convert {\n",
              "      background-color: #E8F0FE;\n",
              "      border: none;\n",
              "      border-radius: 50%;\n",
              "      cursor: pointer;\n",
              "      display: none;\n",
              "      fill: #1967D2;\n",
              "      height: 32px;\n",
              "      padding: 0 0 0 0;\n",
              "      width: 32px;\n",
              "    }\n",
              "\n",
              "    .colab-df-convert:hover {\n",
              "      background-color: #E2EBFA;\n",
              "      box-shadow: 0px 1px 2px rgba(60, 64, 67, 0.3), 0px 1px 3px 1px rgba(60, 64, 67, 0.15);\n",
              "      fill: #174EA6;\n",
              "    }\n",
              "\n",
              "    [theme=dark] .colab-df-convert {\n",
              "      background-color: #3B4455;\n",
              "      fill: #D2E3FC;\n",
              "    }\n",
              "\n",
              "    [theme=dark] .colab-df-convert:hover {\n",
              "      background-color: #434B5C;\n",
              "      box-shadow: 0px 1px 3px 1px rgba(0, 0, 0, 0.15);\n",
              "      filter: drop-shadow(0px 1px 2px rgba(0, 0, 0, 0.3));\n",
              "      fill: #FFFFFF;\n",
              "    }\n",
              "  </style>\n",
              "\n",
              "      <script>\n",
              "        const buttonEl =\n",
              "          document.querySelector('#df-0f97add9-5290-415c-82b6-64e0262d1942 button.colab-df-convert');\n",
              "        buttonEl.style.display =\n",
              "          google.colab.kernel.accessAllowed ? 'block' : 'none';\n",
              "\n",
              "        async function convertToInteractive(key) {\n",
              "          const element = document.querySelector('#df-0f97add9-5290-415c-82b6-64e0262d1942');\n",
              "          const dataTable =\n",
              "            await google.colab.kernel.invokeFunction('convertToInteractive',\n",
              "                                                     [key], {});\n",
              "          if (!dataTable) return;\n",
              "\n",
              "          const docLinkHtml = 'Like what you see? Visit the ' +\n",
              "            '<a target=\"_blank\" href=https://colab.research.google.com/notebooks/data_table.ipynb>data table notebook</a>'\n",
              "            + ' to learn more about interactive tables.';\n",
              "          element.innerHTML = '';\n",
              "          dataTable['output_type'] = 'display_data';\n",
              "          await google.colab.output.renderOutput(dataTable, element);\n",
              "          const docLink = document.createElement('div');\n",
              "          docLink.innerHTML = docLinkHtml;\n",
              "          element.appendChild(docLink);\n",
              "        }\n",
              "      </script>\n",
              "    </div>\n",
              "  </div>\n",
              "  "
            ]
          },
          "metadata": {},
          "execution_count": 153
        }
      ]
    },
    {
      "cell_type": "code",
      "source": [
        "df.Category.value_counts()"
      ],
      "metadata": {
        "colab": {
          "base_uri": "https://localhost:8080/"
        },
        "id": "cLy_UU4OYOlO",
        "outputId": "11ebe24c-d251-4b68-a316-88af9d30028e"
      },
      "execution_count": null,
      "outputs": [
        {
          "output_type": "execute_result",
          "data": {
            "text/plain": [
              "Fintech                                  184\n",
              "Internet software & services             164\n",
              "E-commerce & direct-to-consumer           97\n",
              "Artificial intelligence                   69\n",
              "Health                                    62\n",
              "\"Supply chain, logistics, & delivery\"     51\n",
              "Other                                     51\n",
              "Cybersecurity                             38\n",
              "Mobile & telecommunications               36\n",
              "Data management & analytics               35\n",
              "Hardware                                  32\n",
              "Auto & transportation                     30\n",
              "Edtech                                    27\n",
              "Consumer & retail                         23\n",
              "Travel                                    14\n",
              "Artificial Intelligence                    3\n",
              "Finttech                                   1\n",
              "Name: Category, dtype: int64"
            ]
          },
          "metadata": {},
          "execution_count": 154
        }
      ]
    },
    {
      "cell_type": "code",
      "source": [
        "#Fix the duplcacy of artificial intelligence and fintech column\n",
        "df['Category'] = df['Category'].str.replace('Artificial Intelligence', 'Artificial intelligence')\n",
        "df['Category'] = df['Category'].str.replace('Finttech', 'Fintech')"
      ],
      "metadata": {
        "id": "f9Bw7Ka7hJ6Q"
      },
      "execution_count": null,
      "outputs": []
    },
    {
      "cell_type": "code",
      "source": [
        "df.Category.value_counts()"
      ],
      "metadata": {
        "id": "nYQI6zdYhosF",
        "colab": {
          "base_uri": "https://localhost:8080/"
        },
        "outputId": "2a39aa65-2234-4355-dd19-790fa7258711"
      },
      "execution_count": null,
      "outputs": [
        {
          "output_type": "execute_result",
          "data": {
            "text/plain": [
              "Fintech                                  185\n",
              "Internet software & services             164\n",
              "E-commerce & direct-to-consumer           97\n",
              "Artificial intelligence                   72\n",
              "Health                                    62\n",
              "Other                                     51\n",
              "\"Supply chain, logistics, & delivery\"     51\n",
              "Cybersecurity                             38\n",
              "Mobile & telecommunications               36\n",
              "Data management & analytics               35\n",
              "Hardware                                  32\n",
              "Auto & transportation                     30\n",
              "Edtech                                    27\n",
              "Consumer & retail                         23\n",
              "Travel                                    14\n",
              "Name: Category, dtype: int64"
            ]
          },
          "metadata": {},
          "execution_count": 156
        }
      ]
    },
    {
      "cell_type": "markdown",
      "source": [
        "The Valuation datatype above is object, this ought to be float. The dateAdded should be date format.\n",
        "The dollar symbol for in the valuation column should also be removed from those rows."
      ],
      "metadata": {
        "id": "LH4a-s2TEqo5"
      }
    },
    {
      "cell_type": "code",
      "source": [
        "df.info()"
      ],
      "metadata": {
        "colab": {
          "base_uri": "https://localhost:8080/"
        },
        "id": "dQcQT12hHoBS",
        "outputId": "48a996a6-67ab-4889-fadf-55a7c8489da2"
      },
      "execution_count": null,
      "outputs": [
        {
          "output_type": "stream",
          "name": "stdout",
          "text": [
            "<class 'pandas.core.frame.DataFrame'>\n",
            "RangeIndex: 917 entries, 0 to 916\n",
            "Data columns (total 6 columns):\n",
            " #   Column            Non-Null Count  Dtype \n",
            "---  ------            --------------  ----- \n",
            " 0   Company           917 non-null    object\n",
            " 1   Valuation ($B)    917 non-null    object\n",
            " 2   Date Added        917 non-null    object\n",
            " 3   Country           917 non-null    object\n",
            " 4   Category          917 non-null    object\n",
            " 5   Select Investors  916 non-null    object\n",
            "dtypes: object(6)\n",
            "memory usage: 43.1+ KB\n"
          ]
        }
      ]
    },
    {
      "cell_type": "code",
      "source": [
        "#Rename the valuation column, remove the ($B)\n",
        "df.rename(columns = {'Valuation ($B) ': 'valuation'}, inplace = True)\n",
        "df.rename(columns = {'Date Added':'Date_Added'}, inplace = True)\n",
        "\n",
        "#Change data type \n",
        "df['Date_Added'] = df['Date_Added'].astype('datetime64')\n",
        "df['valuation'] = df['valuation'].str.replace('$', '', regex = True)\n",
        "df['valuation'] = df['valuation'].astype(float)\n",
        "\n",
        "#Split the investor column into separate columns by using the \",\" sign as an indices for separation\n",
        "df = pd.concat([df, df['Select Investors'].str.split(', ', expand=True)], axis=1)\n",
        "\n",
        "#Rename the columns created from numerals to alphanumerals\n",
        "df = df.rename(columns =\n",
        "               {0: 'Investor1',\n",
        "                1: 'Investor2',\n",
        "                2: 'Investor3',\n",
        "                3: 'Investor4'})\n",
        "\n"
      ],
      "metadata": {
        "id": "1UilpeAbCCQy"
      },
      "execution_count": null,
      "outputs": []
    },
    {
      "cell_type": "code",
      "source": [
        "df.head()\n"
      ],
      "metadata": {
        "colab": {
          "base_uri": "https://localhost:8080/",
          "height": 478
        },
        "id": "yIHh8YRcJZm6",
        "outputId": "33b5721f-3c35-4f96-d3c1-048d93502396"
      },
      "execution_count": null,
      "outputs": [
        {
          "output_type": "execute_result",
          "data": {
            "text/plain": [
              "     Company  valuation Date_Added        Country  \\\n",
              "0  Bytedance      140.0 2017-04-07          China   \n",
              "1     SpaceX      100.3 2012-12-01  United States   \n",
              "2     Stripe       95.0 2014-01-23  United States   \n",
              "3     Klarna       45.6 2011-12-12         Sweden   \n",
              "4      Canva       40.0 2018-01-08      Australia   \n",
              "\n",
              "                       Category  \\\n",
              "0       Artificial intelligence   \n",
              "1                         Other   \n",
              "2                       Fintech   \n",
              "3                       Fintech   \n",
              "4  Internet software & services   \n",
              "\n",
              "                                    Select Investors  \\\n",
              "0  \"Sequoia Capital China, SIG Asia Investments, ...   \n",
              "1  \"Founders Fund, Draper Fisher Jurvetson, Rothe...   \n",
              "2      \"Khosla Ventures, LowercaseCapital, capitalG\"   \n",
              "3  \"Institutional Venture Partners, Sequoia Capit...   \n",
              "4  \"Sequoia Capital China, Blackbird Ventures, Ma...   \n",
              "\n",
              "                         Investor1                Investor2  \\\n",
              "0           \"Sequoia Capital China     SIG Asia Investments   \n",
              "1                   \"Founders Fund  Draper Fisher Jurvetson   \n",
              "2                 \"Khosla Ventures         LowercaseCapital   \n",
              "3  \"Institutional Venture Partners          Sequoia Capital   \n",
              "4           \"Sequoia Capital China       Blackbird Ventures   \n",
              "\n",
              "              Investor3        Investor4  \n",
              "0            Sina Weibo  Softbank Group\"  \n",
              "1  Rothenberg Ventures\"             None  \n",
              "2             capitalG\"             None  \n",
              "3     General Atlantic\"             None  \n",
              "4      Matrix Partners\"             None  "
            ],
            "text/html": [
              "\n",
              "  <div id=\"df-54a02642-0c99-48cb-b3cd-d4449210729e\">\n",
              "    <div class=\"colab-df-container\">\n",
              "      <div>\n",
              "<style scoped>\n",
              "    .dataframe tbody tr th:only-of-type {\n",
              "        vertical-align: middle;\n",
              "    }\n",
              "\n",
              "    .dataframe tbody tr th {\n",
              "        vertical-align: top;\n",
              "    }\n",
              "\n",
              "    .dataframe thead th {\n",
              "        text-align: right;\n",
              "    }\n",
              "</style>\n",
              "<table border=\"1\" class=\"dataframe\">\n",
              "  <thead>\n",
              "    <tr style=\"text-align: right;\">\n",
              "      <th></th>\n",
              "      <th>Company</th>\n",
              "      <th>valuation</th>\n",
              "      <th>Date_Added</th>\n",
              "      <th>Country</th>\n",
              "      <th>Category</th>\n",
              "      <th>Select Investors</th>\n",
              "      <th>Investor1</th>\n",
              "      <th>Investor2</th>\n",
              "      <th>Investor3</th>\n",
              "      <th>Investor4</th>\n",
              "    </tr>\n",
              "  </thead>\n",
              "  <tbody>\n",
              "    <tr>\n",
              "      <th>0</th>\n",
              "      <td>Bytedance</td>\n",
              "      <td>140.0</td>\n",
              "      <td>2017-04-07</td>\n",
              "      <td>China</td>\n",
              "      <td>Artificial intelligence</td>\n",
              "      <td>\"Sequoia Capital China, SIG Asia Investments, ...</td>\n",
              "      <td>\"Sequoia Capital China</td>\n",
              "      <td>SIG Asia Investments</td>\n",
              "      <td>Sina Weibo</td>\n",
              "      <td>Softbank Group\"</td>\n",
              "    </tr>\n",
              "    <tr>\n",
              "      <th>1</th>\n",
              "      <td>SpaceX</td>\n",
              "      <td>100.3</td>\n",
              "      <td>2012-12-01</td>\n",
              "      <td>United States</td>\n",
              "      <td>Other</td>\n",
              "      <td>\"Founders Fund, Draper Fisher Jurvetson, Rothe...</td>\n",
              "      <td>\"Founders Fund</td>\n",
              "      <td>Draper Fisher Jurvetson</td>\n",
              "      <td>Rothenberg Ventures\"</td>\n",
              "      <td>None</td>\n",
              "    </tr>\n",
              "    <tr>\n",
              "      <th>2</th>\n",
              "      <td>Stripe</td>\n",
              "      <td>95.0</td>\n",
              "      <td>2014-01-23</td>\n",
              "      <td>United States</td>\n",
              "      <td>Fintech</td>\n",
              "      <td>\"Khosla Ventures, LowercaseCapital, capitalG\"</td>\n",
              "      <td>\"Khosla Ventures</td>\n",
              "      <td>LowercaseCapital</td>\n",
              "      <td>capitalG\"</td>\n",
              "      <td>None</td>\n",
              "    </tr>\n",
              "    <tr>\n",
              "      <th>3</th>\n",
              "      <td>Klarna</td>\n",
              "      <td>45.6</td>\n",
              "      <td>2011-12-12</td>\n",
              "      <td>Sweden</td>\n",
              "      <td>Fintech</td>\n",
              "      <td>\"Institutional Venture Partners, Sequoia Capit...</td>\n",
              "      <td>\"Institutional Venture Partners</td>\n",
              "      <td>Sequoia Capital</td>\n",
              "      <td>General Atlantic\"</td>\n",
              "      <td>None</td>\n",
              "    </tr>\n",
              "    <tr>\n",
              "      <th>4</th>\n",
              "      <td>Canva</td>\n",
              "      <td>40.0</td>\n",
              "      <td>2018-01-08</td>\n",
              "      <td>Australia</td>\n",
              "      <td>Internet software &amp; services</td>\n",
              "      <td>\"Sequoia Capital China, Blackbird Ventures, Ma...</td>\n",
              "      <td>\"Sequoia Capital China</td>\n",
              "      <td>Blackbird Ventures</td>\n",
              "      <td>Matrix Partners\"</td>\n",
              "      <td>None</td>\n",
              "    </tr>\n",
              "  </tbody>\n",
              "</table>\n",
              "</div>\n",
              "      <button class=\"colab-df-convert\" onclick=\"convertToInteractive('df-54a02642-0c99-48cb-b3cd-d4449210729e')\"\n",
              "              title=\"Convert this dataframe to an interactive table.\"\n",
              "              style=\"display:none;\">\n",
              "        \n",
              "  <svg xmlns=\"http://www.w3.org/2000/svg\" height=\"24px\"viewBox=\"0 0 24 24\"\n",
              "       width=\"24px\">\n",
              "    <path d=\"M0 0h24v24H0V0z\" fill=\"none\"/>\n",
              "    <path d=\"M18.56 5.44l.94 2.06.94-2.06 2.06-.94-2.06-.94-.94-2.06-.94 2.06-2.06.94zm-11 1L8.5 8.5l.94-2.06 2.06-.94-2.06-.94L8.5 2.5l-.94 2.06-2.06.94zm10 10l.94 2.06.94-2.06 2.06-.94-2.06-.94-.94-2.06-.94 2.06-2.06.94z\"/><path d=\"M17.41 7.96l-1.37-1.37c-.4-.4-.92-.59-1.43-.59-.52 0-1.04.2-1.43.59L10.3 9.45l-7.72 7.72c-.78.78-.78 2.05 0 2.83L4 21.41c.39.39.9.59 1.41.59.51 0 1.02-.2 1.41-.59l7.78-7.78 2.81-2.81c.8-.78.8-2.07 0-2.86zM5.41 20L4 18.59l7.72-7.72 1.47 1.35L5.41 20z\"/>\n",
              "  </svg>\n",
              "      </button>\n",
              "      \n",
              "  <style>\n",
              "    .colab-df-container {\n",
              "      display:flex;\n",
              "      flex-wrap:wrap;\n",
              "      gap: 12px;\n",
              "    }\n",
              "\n",
              "    .colab-df-convert {\n",
              "      background-color: #E8F0FE;\n",
              "      border: none;\n",
              "      border-radius: 50%;\n",
              "      cursor: pointer;\n",
              "      display: none;\n",
              "      fill: #1967D2;\n",
              "      height: 32px;\n",
              "      padding: 0 0 0 0;\n",
              "      width: 32px;\n",
              "    }\n",
              "\n",
              "    .colab-df-convert:hover {\n",
              "      background-color: #E2EBFA;\n",
              "      box-shadow: 0px 1px 2px rgba(60, 64, 67, 0.3), 0px 1px 3px 1px rgba(60, 64, 67, 0.15);\n",
              "      fill: #174EA6;\n",
              "    }\n",
              "\n",
              "    [theme=dark] .colab-df-convert {\n",
              "      background-color: #3B4455;\n",
              "      fill: #D2E3FC;\n",
              "    }\n",
              "\n",
              "    [theme=dark] .colab-df-convert:hover {\n",
              "      background-color: #434B5C;\n",
              "      box-shadow: 0px 1px 3px 1px rgba(0, 0, 0, 0.15);\n",
              "      filter: drop-shadow(0px 1px 2px rgba(0, 0, 0, 0.3));\n",
              "      fill: #FFFFFF;\n",
              "    }\n",
              "  </style>\n",
              "\n",
              "      <script>\n",
              "        const buttonEl =\n",
              "          document.querySelector('#df-54a02642-0c99-48cb-b3cd-d4449210729e button.colab-df-convert');\n",
              "        buttonEl.style.display =\n",
              "          google.colab.kernel.accessAllowed ? 'block' : 'none';\n",
              "\n",
              "        async function convertToInteractive(key) {\n",
              "          const element = document.querySelector('#df-54a02642-0c99-48cb-b3cd-d4449210729e');\n",
              "          const dataTable =\n",
              "            await google.colab.kernel.invokeFunction('convertToInteractive',\n",
              "                                                     [key], {});\n",
              "          if (!dataTable) return;\n",
              "\n",
              "          const docLinkHtml = 'Like what you see? Visit the ' +\n",
              "            '<a target=\"_blank\" href=https://colab.research.google.com/notebooks/data_table.ipynb>data table notebook</a>'\n",
              "            + ' to learn more about interactive tables.';\n",
              "          element.innerHTML = '';\n",
              "          dataTable['output_type'] = 'display_data';\n",
              "          await google.colab.output.renderOutput(dataTable, element);\n",
              "          const docLink = document.createElement('div');\n",
              "          docLink.innerHTML = docLinkHtml;\n",
              "          element.appendChild(docLink);\n",
              "        }\n",
              "      </script>\n",
              "    </div>\n",
              "  </div>\n",
              "  "
            ]
          },
          "metadata": {},
          "execution_count": 159
        }
      ]
    },
    {
      "cell_type": "code",
      "source": [
        "df['Investor1'] = df['Investor1'].str.replace('\"', '', regex = True)\n",
        "df['Investor2'] = df['Investor2'].str.replace('\"', '', regex = True)\n",
        "df['Investor3'] = df['Investor3'].str.replace('\"', '', regex = True)\n",
        "df['Investor4'] = df['Investor4'].str.replace('\"', '', regex = True)"
      ],
      "metadata": {
        "id": "Yboe4ZBXXGKm"
      },
      "execution_count": null,
      "outputs": []
    },
    {
      "cell_type": "code",
      "source": [
        "df.head()"
      ],
      "metadata": {
        "colab": {
          "base_uri": "https://localhost:8080/",
          "height": 458
        },
        "id": "-Br_JC5NXR8A",
        "outputId": "240ecd10-935e-4d14-fd42-635cd3d103ea"
      },
      "execution_count": null,
      "outputs": [
        {
          "output_type": "execute_result",
          "data": {
            "text/plain": [
              "     Company  valuation Date_Added        Country  \\\n",
              "0  Bytedance      140.0 2017-04-07          China   \n",
              "1     SpaceX      100.3 2012-12-01  United States   \n",
              "2     Stripe       95.0 2014-01-23  United States   \n",
              "3     Klarna       45.6 2011-12-12         Sweden   \n",
              "4      Canva       40.0 2018-01-08      Australia   \n",
              "\n",
              "                       Category  \\\n",
              "0       Artificial intelligence   \n",
              "1                         Other   \n",
              "2                       Fintech   \n",
              "3                       Fintech   \n",
              "4  Internet software & services   \n",
              "\n",
              "                                    Select Investors  \\\n",
              "0  \"Sequoia Capital China, SIG Asia Investments, ...   \n",
              "1  \"Founders Fund, Draper Fisher Jurvetson, Rothe...   \n",
              "2      \"Khosla Ventures, LowercaseCapital, capitalG\"   \n",
              "3  \"Institutional Venture Partners, Sequoia Capit...   \n",
              "4  \"Sequoia Capital China, Blackbird Ventures, Ma...   \n",
              "\n",
              "                        Investor1                Investor2  \\\n",
              "0           Sequoia Capital China     SIG Asia Investments   \n",
              "1                   Founders Fund  Draper Fisher Jurvetson   \n",
              "2                 Khosla Ventures         LowercaseCapital   \n",
              "3  Institutional Venture Partners          Sequoia Capital   \n",
              "4           Sequoia Capital China       Blackbird Ventures   \n",
              "\n",
              "             Investor3       Investor4  \n",
              "0           Sina Weibo  Softbank Group  \n",
              "1  Rothenberg Ventures            None  \n",
              "2             capitalG            None  \n",
              "3     General Atlantic            None  \n",
              "4      Matrix Partners            None  "
            ],
            "text/html": [
              "\n",
              "  <div id=\"df-8d78d59a-6dd8-47ba-91e3-51658692b49d\">\n",
              "    <div class=\"colab-df-container\">\n",
              "      <div>\n",
              "<style scoped>\n",
              "    .dataframe tbody tr th:only-of-type {\n",
              "        vertical-align: middle;\n",
              "    }\n",
              "\n",
              "    .dataframe tbody tr th {\n",
              "        vertical-align: top;\n",
              "    }\n",
              "\n",
              "    .dataframe thead th {\n",
              "        text-align: right;\n",
              "    }\n",
              "</style>\n",
              "<table border=\"1\" class=\"dataframe\">\n",
              "  <thead>\n",
              "    <tr style=\"text-align: right;\">\n",
              "      <th></th>\n",
              "      <th>Company</th>\n",
              "      <th>valuation</th>\n",
              "      <th>Date_Added</th>\n",
              "      <th>Country</th>\n",
              "      <th>Category</th>\n",
              "      <th>Select Investors</th>\n",
              "      <th>Investor1</th>\n",
              "      <th>Investor2</th>\n",
              "      <th>Investor3</th>\n",
              "      <th>Investor4</th>\n",
              "    </tr>\n",
              "  </thead>\n",
              "  <tbody>\n",
              "    <tr>\n",
              "      <th>0</th>\n",
              "      <td>Bytedance</td>\n",
              "      <td>140.0</td>\n",
              "      <td>2017-04-07</td>\n",
              "      <td>China</td>\n",
              "      <td>Artificial intelligence</td>\n",
              "      <td>\"Sequoia Capital China, SIG Asia Investments, ...</td>\n",
              "      <td>Sequoia Capital China</td>\n",
              "      <td>SIG Asia Investments</td>\n",
              "      <td>Sina Weibo</td>\n",
              "      <td>Softbank Group</td>\n",
              "    </tr>\n",
              "    <tr>\n",
              "      <th>1</th>\n",
              "      <td>SpaceX</td>\n",
              "      <td>100.3</td>\n",
              "      <td>2012-12-01</td>\n",
              "      <td>United States</td>\n",
              "      <td>Other</td>\n",
              "      <td>\"Founders Fund, Draper Fisher Jurvetson, Rothe...</td>\n",
              "      <td>Founders Fund</td>\n",
              "      <td>Draper Fisher Jurvetson</td>\n",
              "      <td>Rothenberg Ventures</td>\n",
              "      <td>None</td>\n",
              "    </tr>\n",
              "    <tr>\n",
              "      <th>2</th>\n",
              "      <td>Stripe</td>\n",
              "      <td>95.0</td>\n",
              "      <td>2014-01-23</td>\n",
              "      <td>United States</td>\n",
              "      <td>Fintech</td>\n",
              "      <td>\"Khosla Ventures, LowercaseCapital, capitalG\"</td>\n",
              "      <td>Khosla Ventures</td>\n",
              "      <td>LowercaseCapital</td>\n",
              "      <td>capitalG</td>\n",
              "      <td>None</td>\n",
              "    </tr>\n",
              "    <tr>\n",
              "      <th>3</th>\n",
              "      <td>Klarna</td>\n",
              "      <td>45.6</td>\n",
              "      <td>2011-12-12</td>\n",
              "      <td>Sweden</td>\n",
              "      <td>Fintech</td>\n",
              "      <td>\"Institutional Venture Partners, Sequoia Capit...</td>\n",
              "      <td>Institutional Venture Partners</td>\n",
              "      <td>Sequoia Capital</td>\n",
              "      <td>General Atlantic</td>\n",
              "      <td>None</td>\n",
              "    </tr>\n",
              "    <tr>\n",
              "      <th>4</th>\n",
              "      <td>Canva</td>\n",
              "      <td>40.0</td>\n",
              "      <td>2018-01-08</td>\n",
              "      <td>Australia</td>\n",
              "      <td>Internet software &amp; services</td>\n",
              "      <td>\"Sequoia Capital China, Blackbird Ventures, Ma...</td>\n",
              "      <td>Sequoia Capital China</td>\n",
              "      <td>Blackbird Ventures</td>\n",
              "      <td>Matrix Partners</td>\n",
              "      <td>None</td>\n",
              "    </tr>\n",
              "  </tbody>\n",
              "</table>\n",
              "</div>\n",
              "      <button class=\"colab-df-convert\" onclick=\"convertToInteractive('df-8d78d59a-6dd8-47ba-91e3-51658692b49d')\"\n",
              "              title=\"Convert this dataframe to an interactive table.\"\n",
              "              style=\"display:none;\">\n",
              "        \n",
              "  <svg xmlns=\"http://www.w3.org/2000/svg\" height=\"24px\"viewBox=\"0 0 24 24\"\n",
              "       width=\"24px\">\n",
              "    <path d=\"M0 0h24v24H0V0z\" fill=\"none\"/>\n",
              "    <path d=\"M18.56 5.44l.94 2.06.94-2.06 2.06-.94-2.06-.94-.94-2.06-.94 2.06-2.06.94zm-11 1L8.5 8.5l.94-2.06 2.06-.94-2.06-.94L8.5 2.5l-.94 2.06-2.06.94zm10 10l.94 2.06.94-2.06 2.06-.94-2.06-.94-.94-2.06-.94 2.06-2.06.94z\"/><path d=\"M17.41 7.96l-1.37-1.37c-.4-.4-.92-.59-1.43-.59-.52 0-1.04.2-1.43.59L10.3 9.45l-7.72 7.72c-.78.78-.78 2.05 0 2.83L4 21.41c.39.39.9.59 1.41.59.51 0 1.02-.2 1.41-.59l7.78-7.78 2.81-2.81c.8-.78.8-2.07 0-2.86zM5.41 20L4 18.59l7.72-7.72 1.47 1.35L5.41 20z\"/>\n",
              "  </svg>\n",
              "      </button>\n",
              "      \n",
              "  <style>\n",
              "    .colab-df-container {\n",
              "      display:flex;\n",
              "      flex-wrap:wrap;\n",
              "      gap: 12px;\n",
              "    }\n",
              "\n",
              "    .colab-df-convert {\n",
              "      background-color: #E8F0FE;\n",
              "      border: none;\n",
              "      border-radius: 50%;\n",
              "      cursor: pointer;\n",
              "      display: none;\n",
              "      fill: #1967D2;\n",
              "      height: 32px;\n",
              "      padding: 0 0 0 0;\n",
              "      width: 32px;\n",
              "    }\n",
              "\n",
              "    .colab-df-convert:hover {\n",
              "      background-color: #E2EBFA;\n",
              "      box-shadow: 0px 1px 2px rgba(60, 64, 67, 0.3), 0px 1px 3px 1px rgba(60, 64, 67, 0.15);\n",
              "      fill: #174EA6;\n",
              "    }\n",
              "\n",
              "    [theme=dark] .colab-df-convert {\n",
              "      background-color: #3B4455;\n",
              "      fill: #D2E3FC;\n",
              "    }\n",
              "\n",
              "    [theme=dark] .colab-df-convert:hover {\n",
              "      background-color: #434B5C;\n",
              "      box-shadow: 0px 1px 3px 1px rgba(0, 0, 0, 0.15);\n",
              "      filter: drop-shadow(0px 1px 2px rgba(0, 0, 0, 0.3));\n",
              "      fill: #FFFFFF;\n",
              "    }\n",
              "  </style>\n",
              "\n",
              "      <script>\n",
              "        const buttonEl =\n",
              "          document.querySelector('#df-8d78d59a-6dd8-47ba-91e3-51658692b49d button.colab-df-convert');\n",
              "        buttonEl.style.display =\n",
              "          google.colab.kernel.accessAllowed ? 'block' : 'none';\n",
              "\n",
              "        async function convertToInteractive(key) {\n",
              "          const element = document.querySelector('#df-8d78d59a-6dd8-47ba-91e3-51658692b49d');\n",
              "          const dataTable =\n",
              "            await google.colab.kernel.invokeFunction('convertToInteractive',\n",
              "                                                     [key], {});\n",
              "          if (!dataTable) return;\n",
              "\n",
              "          const docLinkHtml = 'Like what you see? Visit the ' +\n",
              "            '<a target=\"_blank\" href=https://colab.research.google.com/notebooks/data_table.ipynb>data table notebook</a>'\n",
              "            + ' to learn more about interactive tables.';\n",
              "          element.innerHTML = '';\n",
              "          dataTable['output_type'] = 'display_data';\n",
              "          await google.colab.output.renderOutput(dataTable, element);\n",
              "          const docLink = document.createElement('div');\n",
              "          docLink.innerHTML = docLinkHtml;\n",
              "          element.appendChild(docLink);\n",
              "        }\n",
              "      </script>\n",
              "    </div>\n",
              "  </div>\n",
              "  "
            ]
          },
          "metadata": {},
          "execution_count": 161
        }
      ]
    },
    {
      "cell_type": "markdown",
      "source": [
        "🗺️ Explore: Which investors are the most represented in the dataset?\n",
        "\n",
        "---\n",
        "\n"
      ],
      "metadata": {
        "id": "G-jBV1bmSeHV"
      }
    },
    {
      "cell_type": "code",
      "source": [
        "investors = pd.concat([df['Investor1'],df['Investor2'],\n",
        "                       df['Investor3'],df['Investor4']],axis = 0)\n",
        "investors.dropna(inplace=True)\n",
        "investors.value_counts().nlargest(10)"
      ],
      "metadata": {
        "colab": {
          "base_uri": "https://localhost:8080/"
        },
        "id": "HHo3WsLRPHxL",
        "outputId": "61498e9f-bae6-4fa5-93bf-685258c6e313"
      },
      "execution_count": null,
      "outputs": [
        {
          "output_type": "execute_result",
          "data": {
            "text/plain": [
              "Accel                          49\n",
              "Sequoia Capital China          47\n",
              "Tiger Global Management        41\n",
              "Sequoia Capital                40\n",
              "Andreessen Horowitz            38\n",
              "Insight Partners               38\n",
              "SoftBank Group                 28\n",
              "Index Ventures                 27\n",
              "Lightspeed Venture Partners    26\n",
              "Tencent Holdings               25\n",
              "dtype: int64"
            ]
          },
          "metadata": {},
          "execution_count": 162
        }
      ]
    },
    {
      "cell_type": "markdown",
      "source": [
        "\n",
        "\n",
        "📊 Visualize: Create a plot that visualizes the valuation of a company by the date it was added. Add annotations to outliers indicating the names of the company.\n"
      ],
      "metadata": {
        "id": "zkUQsImpcIR6"
      }
    },
    {
      "cell_type": "code",
      "source": [
        "\n",
        "\n",
        "# Create a scatter plot with Seaborn\n",
        "sns.scatterplot(x=\"Date_Added\", y=\"valuation\", data=df)\n",
        "\n",
        "# Add annotations for outliers\n",
        "#outliers = df[df.valuation == df.valuation.max() or df.valuation == df.valuation.min()]\n",
        "outliers = df[(df.valuation == df.valuation.max()) | (df.valuation == df.valuation.min())]\n",
        "\n",
        "for _, row in outliers.iterrows():\n",
        "    plt.annotate(row.Company, xy=(row.Date_Added, row.valuation), xytext=(10,10), textcoords='offset points', fontsize=8)\n",
        "    \n",
        "# Show the plot\n",
        "plt.show()\n"
      ],
      "metadata": {
        "colab": {
          "base_uri": "https://localhost:8080/",
          "height": 455
        },
        "id": "GBu0qJjvdP1W",
        "outputId": "1ee3042e-79f6-4ebf-bfb5-f87f6a416be7"
      },
      "execution_count": null,
      "outputs": [
        {
          "output_type": "display_data",
          "data": {
            "text/plain": [
              "<Figure size 640x480 with 1 Axes>"
            ],
            "image/png": "[encoded data removed]"
          },
          "metadata": {}
        }
      ]
    },
    {
      "cell_type": "code",
      "source": [
        "df.columns\n"
      ],
      "metadata": {
        "colab": {
          "base_uri": "https://localhost:8080/"
        },
        "id": "UyqTNydMdWoP",
        "outputId": "8774d0d0-f730-472e-f510-cd8dadcabf69"
      },
      "execution_count": null,
      "outputs": [
        {
          "output_type": "execute_result",
          "data": {
            "text/plain": [
              "Index(['Company', 'valuation', 'Date_Added', 'Country', 'Category',\n",
              "       'Select Investors', 'Investor1', 'Investor2', 'Investor3', 'Investor4'],\n",
              "      dtype='object')"
            ]
          },
          "metadata": {},
          "execution_count": 164
        }
      ]
    },
    {
      "cell_type": "code",
      "source": [
        "ax = sns.scatterplot(data=df, x='Date_Added', y='Category', size='valuation', hue='Category', sizes=(10, 1000), legend=False)\n",
        "\n",
        "#outliers = df[df.valuation == df.valuation.max() or df.valuation == df.valuation.min()]\n",
        "outliers = df[(df.valuation == df.valuation.max()) | (df.valuation == df.valuation.min())]\n",
        "\n",
        "for _, row in outliers.iterrows():\n",
        "    plt.annotate(row.Company, xy=(row.Date_Added, row.valuation), xytext=(10,10), textcoords='offset points', fontsize=8)\n",
        "\n",
        "#sns.scatterplot(data=df, x='Date_Added', y='Category', hue='Category', sizes=(0, 0), marker='X', ax=ax, alpha=0.9)\n",
        "#Add plot title\n",
        "plt.title('Date Joined by Unicorns', fontsize=16)\n",
        "\n",
        "#Add plot background\n",
        "sns.set_style('white')\n",
        "\n",
        "plt.show()\n",
        "\n",
        "\n"
      ],
      "metadata": {
        "colab": {
          "base_uri": "https://localhost:8080/",
          "height": 474
        },
        "id": "s9aI0V1Fdmml",
        "outputId": "bb45f822-7875-4ded-a6d1-e311ed31f6a4"
      },
      "execution_count": null,
      "outputs": [
        {
          "output_type": "display_data",
          "data": {
            "text/plain": [
              "<Figure size 640x480 with 1 Axes>"
            ],
            "image/png": "[encoded data removed]"
          },
          "metadata": {}
        }
      ]
    },
    {
      "cell_type": "markdown",
      "source": [
        "🔎 Analyze: Do the number of investors a company have correlate with its valuation?"
      ],
      "metadata": {
        "id": "FGzBEFhMtL_B"
      }
    },
    {
      "cell_type": "code",
      "source": [
        "df['Select Investors'] = df['Select Investors'].astype(str)\n",
        "df['Select Investors'] = df['Select Investors'].str.split(',')\n",
        "\n",
        "# count the number of investors for each company\n",
        "df['Investor Count'] = df['Select Investors'].apply(lambda x: len(x))\n",
        "\n",
        "# group the data by investor count and calculate the average valuation\n",
        "grouped = df.groupby('Investor Count')['valuation'].mean()\n",
        "\n",
        "# calculate the correlation coefficient between investor count and valuation\n",
        "corr_coef = df['Investor Count'].corr(df['valuation'])\n",
        "\n",
        "print('Correlation coefficient:', corr_coef)\n"
      ],
      "metadata": {
        "colab": {
          "base_uri": "https://localhost:8080/"
        },
        "id": "xV1ANNPwt-vE",
        "outputId": "42133321-c660-49ee-86d8-fdae5000b523"
      },
      "execution_count": null,
      "outputs": [
        {
          "output_type": "stream",
          "name": "stdout",
          "text": [
            "Correlation coefficient: 0.07834075495640906\n"
          ]
        }
      ]
    },
    {
      "cell_type": "markdown",
      "source": [
        "You have been hired as a data scientist for a company that invests in start-ups. Your manager is interested in whether it is possible to predict whether a company reaches a valuation over 5 billion based on characteristics such as its country of origin, its category, and details about its investors.\n",
        "\n",
        "Using the dataset provided, you have been asked to test whether such predictions are possible, and the confidence one can have in the results.\n",
        "\n",
        "You will need to prepare a report that is accessible to a broad audience. It will need to outline your motivation, steps, findings, and conclusions."
      ],
      "metadata": {
        "id": "TzO68fAutlv8"
      }
    },
    {
      "cell_type": "code",
      "source": [
        "df['Select Investors'] = df['Select Investors'].astype(str)\n",
        "df.info()"
      ],
      "metadata": {
        "colab": {
          "base_uri": "https://localhost:8080/"
        },
        "id": "pqzZE1dOnZ5f",
        "outputId": "249c662a-4429-4a05-f0c7-42b43dcd6375"
      },
      "execution_count": null,
      "outputs": [
        {
          "output_type": "stream",
          "name": "stdout",
          "text": [
            "<class 'pandas.core.frame.DataFrame'>\n",
            "RangeIndex: 917 entries, 0 to 916\n",
            "Data columns (total 11 columns):\n",
            " #   Column            Non-Null Count  Dtype         \n",
            "---  ------            --------------  -----         \n",
            " 0   Company           917 non-null    object        \n",
            " 1   valuation         917 non-null    float64       \n",
            " 2   Date_Added        917 non-null    datetime64[ns]\n",
            " 3   Country           917 non-null    object        \n",
            " 4   Category          917 non-null    object        \n",
            " 5   Select Investors  917 non-null    object        \n",
            " 6   Investor1         916 non-null    object        \n",
            " 7   Investor2         872 non-null    object        \n",
            " 8   Investor3         788 non-null    object        \n",
            " 9   Investor4         7 non-null      object        \n",
            " 10  Investor Count    917 non-null    int64         \n",
            "dtypes: datetime64[ns](1), float64(1), int64(1), object(8)\n",
            "memory usage: 78.9+ KB\n"
          ]
        }
      ]
    },
    {
      "cell_type": "code",
      "source": [
        "df.columns"
      ],
      "metadata": {
        "colab": {
          "base_uri": "https://localhost:8080/"
        },
        "id": "96ct9YtDk5i2",
        "outputId": "a919273f-3b89-405c-d9fb-0ed74bec53fd"
      },
      "execution_count": null,
      "outputs": [
        {
          "output_type": "execute_result",
          "data": {
            "text/plain": [
              "Index(['Company', 'valuation', 'Date_Added', 'Country', 'Category',\n",
              "       'Select Investors', 'Investor1', 'Investor2', 'Investor3', 'Investor4',\n",
              "       'Investor Count'],\n",
              "      dtype='object')"
            ]
          },
          "metadata": {},
          "execution_count": 168
        }
      ]
    },
    {
      "cell_type": "code",
      "source": [
        "# Convert 'Date_Added' column to numerical values\n",
        "df['Date_Added'] = df['Date_Added'].astype(int) / 10**9\n",
        "\n",
        "# Drop original investors column\n",
        "df.drop('Select Investors', axis=1, inplace=True)\n",
        "\n",
        "# One-hot encode categorical columns\n",
        "df = pd.get_dummies(df, columns=['Category', 'Country', 'Investor1', 'Investor2', 'Investor3', 'Investor4'], dtype=float)\n",
        "\n",
        "\n",
        "# Split dataset into training and testing sets\n",
        "X = df.drop(['Company', 'valuation'], axis=1)\n",
        "y = df['valuation'] > 5\n",
        "\n",
        "X_train, X_test, y_train, y_test = train_test_split(X, y, test_size=0.2, random_state=42)\n",
        "\n",
        "# Train logistic regression model\n",
        "lr = LogisticRegression()\n",
        "lr.fit(X_train, y_train)\n",
        "\n",
        "# Make predictions on testing set and evaluate accuracy\n",
        "y_pred = lr.predict(X_test)\n",
        "accuracy = accuracy_score(y_test, y_pred)\n",
        "print(f\"Accuracy: {accuracy}\")\n",
        "\n"
      ],
      "metadata": {
        "colab": {
          "base_uri": "https://localhost:8080/"
        },
        "id": "2iiQKDwavkcM",
        "outputId": "88f450bb-a922-473a-81cf-ba5b80751517"
      },
      "execution_count": null,
      "outputs": [
        {
          "output_type": "stream",
          "name": "stdout",
          "text": [
            "Accuracy: 0.8586956521739131\n"
          ]
        }
      ]
    },
    {
      "cell_type": "code",
      "source": [
        "'''\n",
        "\n",
        "mlb = MultiLabelBinarizer()\n",
        "df['Select Investors'] = df['Select Investors'].fillna('')\n",
        "investors_df = pd.DataFrame(mlb.fit_transform(df['Select Investors'].str.split(',')), columns=mlb.classes_, index=df.index)\n",
        "\n",
        "#print(investors_df)\n",
        "\n",
        "# Concatenate original dataframe with binary investor dataframe\n",
        "df = pd.concat([df, investors_df], axis=1)\n",
        "\n",
        "# Drop original investors column\n",
        "df.drop('investors', axis=1, inplace=True)\n",
        "\n",
        "# One-hot encode categorical columns\n",
        "df = pd.get_dummies(df, columns=['industry', 'country'])\n",
        "\n",
        "# Split dataset into training and testing sets\n",
        "X = df.drop(['company', 'valuation'], axis=1)\n",
        "y = df['valuation'] > 5\n",
        "X_train, X_test, y_train, y_test = train_test_split(X, y, test_size=0.2, random_state=42)\n",
        "\n",
        "# Train logistic regression model\n",
        "lr = LogisticRegression()\n",
        "lr.fit(X_train, y_train)\n",
        "\n",
        "# Make predictions on testing set and evaluate accuracy\n",
        "y_pred = lr.predict(X_test)\n",
        "accuracy = accuracy_score(y_test, y_pred)\n",
        "print(f\"Accuracy: {accuracy}\")\n",
        "'''"
      ],
      "metadata": {
        "colab": {
          "base_uri": "https://localhost:8080/",
          "height": 174
        },
        "id": "MYm1hUJoxvSv",
        "outputId": "a8a7dd40-e61b-4beb-c1e8-a3e61832eda1"
      },
      "execution_count": null,
      "outputs": [
        {
          "output_type": "execute_result",
          "data": {
            "text/plain": [
              "'\\n\\nmlb = MultiLabelBinarizer()\\ndf[\\'Select Investors\\'] = df[\\'Select Investors\\'].fillna(\\'\\')\\ninvestors_df = pd.DataFrame(mlb.fit_transform(df[\\'Select Investors\\'].str.split(\\',\\')), columns=mlb.classes_, index=df.index)\\n\\n#print(investors_df)\\n\\n# Concatenate original dataframe with binary investor dataframe\\ndf = pd.concat([df, investors_df], axis=1)\\n\\n# Drop original investors column\\ndf.drop(\\'investors\\', axis=1, inplace=True)\\n\\n# One-hot encode categorical columns\\ndf = pd.get_dummies(df, columns=[\\'industry\\', \\'country\\'])\\n\\n# Split dataset into training and testing sets\\nX = df.drop([\\'company\\', \\'valuation\\'], axis=1)\\ny = df[\\'valuation\\'] > 5\\nX_train, X_test, y_train, y_test = train_test_split(X, y, test_size=0.2, random_state=42)\\n\\n# Train logistic regression model\\nlr = LogisticRegression()\\nlr.fit(X_train, y_train)\\n\\n# Make predictions on testing set and evaluate accuracy\\ny_pred = lr.predict(X_test)\\naccuracy = accuracy_score(y_test, y_pred)\\nprint(f\"Accuracy: {accuracy}\")\\n'"
            ],
            "application/vnd.google.colaboratory.intrinsic+json": {
              "type": "string"
            }
          },
          "metadata": {},
          "execution_count": 171
        }
      ]
    },
    {
      "cell_type": "code",
      "source": [],
      "metadata": {
        "id": "dRTiUUrExvbH"
      },
      "execution_count": null,
      "outputs": []
    },
    {
      "cell_type": "code",
      "source": [],
      "metadata": {
        "id": "i-z7hDnGxwP_"
      },
      "execution_count": null,
      "outputs": []
    }
  ]
}